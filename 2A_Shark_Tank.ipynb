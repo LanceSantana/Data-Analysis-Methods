{
 "cells": [
  {
   "cell_type": "markdown",
   "metadata": {
    "id": "pB6X4Cs0ovvn"
   },
   "source": [
    "# Shark Tank\n",
    "\n",
    "_Shark Tank_ is a reality TV show. Contestants present their idea for a company to a panel of investors (a.k.a. \"sharks\"), who then decide whether or not to invest in that company.  The investors give a certain amount of money in exchange for a percentage stake in the company (\"equity\"). If you are not familiar with the show, you may want to watch part of an episode [here](https://www.youtube.com/watch?v=3VBmLGUDxWA) to get a sense of how it works.  You can also search for a clip on YouTube.\n",
    "\n",
    "The data that you will examine in this lab contains data about all contestants from the first 6 seasons of the show, including:\n",
    "- the name and industry of the proposed company\n",
    "- whether or not it was funded (i.e., the \"Deal\" column)\n",
    "- which sharks chose to invest in the venture (N.B. There are 7 regular sharks, not including \"Guest\". Each shark has a column in the data set, labeled by their last name.)\n",
    "- if funded, the amount of money the sharks put in and the percentage equity they got in return\n",
    "\n",
    "To earn full credit on this lab, you should:\n",
    "- use built-in `pandas` methods (like `.sum()` and `.max()`) instead of writing a for loop over a `DataFrame` or `Series`\n",
    "- use the split-apply-combine pattern wherever possible\n",
    "\n",
    "Of course, if you can't think of a vectorized solution, a `for` loop is still better than no solution at all!"
   ]
  },
  {
   "cell_type": "code",
   "execution_count": 3,
   "metadata": {
    "id": "Us6oobKlovvp"
   },
   "outputs": [],
   "source": [
    "import pandas as pd"
   ]
  },
  {
   "cell_type": "markdown",
   "metadata": {
    "id": "ngi3x0nmovvw"
   },
   "source": [
    "## Question 0. Getting and Cleaning the Data"
   ]
  },
  {
   "cell_type": "markdown",
   "metadata": {
    "id": "qg5b6rHFovvw"
   },
   "source": [
    "The data is stored in the CSV file `sharktank.csv`. Read in the data into a Pandas `DataFrame`."
   ]
  },
  {
   "cell_type": "code",
   "execution_count": 6,
   "metadata": {
    "colab": {
     "base_uri": "https://localhost:8080/",
     "height": 365
    },
    "id": "arHQniiLovvy",
    "outputId": "d91dd039-7e44-4e13-99fc-5d9a75770a41"
   },
   "outputs": [
    {
     "data": {
      "text/html": [
       "<div>\n",
       "<style scoped>\n",
       "    .dataframe tbody tr th:only-of-type {\n",
       "        vertical-align: middle;\n",
       "    }\n",
       "\n",
       "    .dataframe tbody tr th {\n",
       "        vertical-align: top;\n",
       "    }\n",
       "\n",
       "    .dataframe thead th {\n",
       "        text-align: right;\n",
       "    }\n",
       "</style>\n",
       "<table border=\"1\" class=\"dataframe\">\n",
       "  <thead>\n",
       "    <tr style=\"text-align: right;\">\n",
       "      <th></th>\n",
       "      <th>Season</th>\n",
       "      <th>No. in series</th>\n",
       "      <th>Company</th>\n",
       "      <th>Deal</th>\n",
       "      <th>Industry</th>\n",
       "      <th>Entrepreneur Gender</th>\n",
       "      <th>Amount</th>\n",
       "      <th>Equity</th>\n",
       "      <th>Corcoran</th>\n",
       "      <th>Cuban</th>\n",
       "      <th>Greiner</th>\n",
       "      <th>Herjavec</th>\n",
       "      <th>John</th>\n",
       "      <th>O'Leary</th>\n",
       "      <th>Harrington</th>\n",
       "      <th>Guest</th>\n",
       "      <th>Details / Notes</th>\n",
       "    </tr>\n",
       "  </thead>\n",
       "  <tbody>\n",
       "    <tr>\n",
       "      <th>0</th>\n",
       "      <td>1.0</td>\n",
       "      <td>1.0</td>\n",
       "      <td>Ava the Elephant</td>\n",
       "      <td>Yes</td>\n",
       "      <td>Healthcare</td>\n",
       "      <td>Female</td>\n",
       "      <td>$50,000</td>\n",
       "      <td>55%</td>\n",
       "      <td>1.0</td>\n",
       "      <td>NaN</td>\n",
       "      <td>NaN</td>\n",
       "      <td>NaN</td>\n",
       "      <td>NaN</td>\n",
       "      <td>NaN</td>\n",
       "      <td>NaN</td>\n",
       "      <td>NaN</td>\n",
       "      <td>NaN</td>\n",
       "    </tr>\n",
       "    <tr>\n",
       "      <th>1</th>\n",
       "      <td>1.0</td>\n",
       "      <td>1.0</td>\n",
       "      <td>Mr. Tod's Pie Factory</td>\n",
       "      <td>Yes</td>\n",
       "      <td>Food and Beverage</td>\n",
       "      <td>Male</td>\n",
       "      <td>$460,000</td>\n",
       "      <td>50%</td>\n",
       "      <td>1.0</td>\n",
       "      <td>NaN</td>\n",
       "      <td>NaN</td>\n",
       "      <td>NaN</td>\n",
       "      <td>1.0</td>\n",
       "      <td>NaN</td>\n",
       "      <td>NaN</td>\n",
       "      <td>NaN</td>\n",
       "      <td>NaN</td>\n",
       "    </tr>\n",
       "    <tr>\n",
       "      <th>2</th>\n",
       "      <td>1.0</td>\n",
       "      <td>1.0</td>\n",
       "      <td>Wispots</td>\n",
       "      <td>No</td>\n",
       "      <td>Business Services</td>\n",
       "      <td>Male</td>\n",
       "      <td>NaN</td>\n",
       "      <td>NaN</td>\n",
       "      <td>NaN</td>\n",
       "      <td>NaN</td>\n",
       "      <td>NaN</td>\n",
       "      <td>NaN</td>\n",
       "      <td>NaN</td>\n",
       "      <td>NaN</td>\n",
       "      <td>NaN</td>\n",
       "      <td>NaN</td>\n",
       "      <td>NaN</td>\n",
       "    </tr>\n",
       "    <tr>\n",
       "      <th>3</th>\n",
       "      <td>1.0</td>\n",
       "      <td>1.0</td>\n",
       "      <td>College Foxes Packing Boxes</td>\n",
       "      <td>No</td>\n",
       "      <td>Lifestyle / Home</td>\n",
       "      <td>Male</td>\n",
       "      <td>NaN</td>\n",
       "      <td>NaN</td>\n",
       "      <td>NaN</td>\n",
       "      <td>NaN</td>\n",
       "      <td>NaN</td>\n",
       "      <td>NaN</td>\n",
       "      <td>NaN</td>\n",
       "      <td>NaN</td>\n",
       "      <td>NaN</td>\n",
       "      <td>NaN</td>\n",
       "      <td>NaN</td>\n",
       "    </tr>\n",
       "    <tr>\n",
       "      <th>4</th>\n",
       "      <td>1.0</td>\n",
       "      <td>1.0</td>\n",
       "      <td>Ionic Ear</td>\n",
       "      <td>No</td>\n",
       "      <td>Uncertain / Other</td>\n",
       "      <td>Male</td>\n",
       "      <td>NaN</td>\n",
       "      <td>NaN</td>\n",
       "      <td>NaN</td>\n",
       "      <td>NaN</td>\n",
       "      <td>NaN</td>\n",
       "      <td>NaN</td>\n",
       "      <td>NaN</td>\n",
       "      <td>NaN</td>\n",
       "      <td>NaN</td>\n",
       "      <td>NaN</td>\n",
       "      <td>NaN</td>\n",
       "    </tr>\n",
       "  </tbody>\n",
       "</table>\n",
       "</div>"
      ],
      "text/plain": [
       "   Season  No. in series                      Company Deal           Industry  \\\n",
       "0     1.0            1.0             Ava the Elephant  Yes         Healthcare   \n",
       "1     1.0            1.0        Mr. Tod's Pie Factory  Yes  Food and Beverage   \n",
       "2     1.0            1.0                      Wispots   No  Business Services   \n",
       "3     1.0            1.0  College Foxes Packing Boxes   No   Lifestyle / Home   \n",
       "4     1.0            1.0                    Ionic Ear   No  Uncertain / Other   \n",
       "\n",
       "  Entrepreneur Gender    Amount Equity  Corcoran  Cuban  Greiner  Herjavec  \\\n",
       "0              Female   $50,000    55%       1.0    NaN      NaN       NaN   \n",
       "1                Male  $460,000    50%       1.0    NaN      NaN       NaN   \n",
       "2                Male       NaN    NaN       NaN    NaN      NaN       NaN   \n",
       "3                Male       NaN    NaN       NaN    NaN      NaN       NaN   \n",
       "4                Male       NaN    NaN       NaN    NaN      NaN       NaN   \n",
       "\n",
       "   John  O'Leary  Harrington  Guest Details / Notes  \n",
       "0   NaN      NaN         NaN    NaN             NaN  \n",
       "1   1.0      NaN         NaN    NaN             NaN  \n",
       "2   NaN      NaN         NaN    NaN             NaN  \n",
       "3   NaN      NaN         NaN    NaN             NaN  \n",
       "4   NaN      NaN         NaN    NaN             NaN  "
      ]
     },
     "execution_count": 6,
     "metadata": {},
     "output_type": "execute_result"
    }
   ],
   "source": [
    "# YOUR CODE HERE\n",
    "df = pd.read_csv(\"sharktank.csv\")\n",
    "df.head()\n",
    "\n"
   ]
  },
  {
   "cell_type": "markdown",
   "metadata": {
    "id": "Ie2pafAbovv3"
   },
   "source": [
    "There is one column for each of the sharks. A 1 indicates that they chose to invest in that company, while a missing value indicates that they did not choose to invest in that company. Notice that these missing values show up as NaNs when we read in the data. Fill in these missing values with zeros. Other columns may also contain NaNs; be careful not to fill those columns with zeros, or you may end up with strange results down the line."
   ]
  },
  {
   "cell_type": "code",
   "execution_count": 8,
   "metadata": {
    "colab": {
     "base_uri": "https://localhost:8080/",
     "height": 382
    },
    "id": "w6KKp8u1ovv7",
    "outputId": "322b5bea-12c4-42b7-b710-f176d0edbced"
   },
   "outputs": [
    {
     "data": {
      "text/html": [
       "<div>\n",
       "<style scoped>\n",
       "    .dataframe tbody tr th:only-of-type {\n",
       "        vertical-align: middle;\n",
       "    }\n",
       "\n",
       "    .dataframe tbody tr th {\n",
       "        vertical-align: top;\n",
       "    }\n",
       "\n",
       "    .dataframe thead th {\n",
       "        text-align: right;\n",
       "    }\n",
       "</style>\n",
       "<table border=\"1\" class=\"dataframe\">\n",
       "  <thead>\n",
       "    <tr style=\"text-align: right;\">\n",
       "      <th></th>\n",
       "      <th>Season</th>\n",
       "      <th>No. in series</th>\n",
       "      <th>Company</th>\n",
       "      <th>Deal</th>\n",
       "      <th>Industry</th>\n",
       "      <th>Entrepreneur Gender</th>\n",
       "      <th>Amount</th>\n",
       "      <th>Equity</th>\n",
       "      <th>Corcoran</th>\n",
       "      <th>Cuban</th>\n",
       "      <th>Greiner</th>\n",
       "      <th>Herjavec</th>\n",
       "      <th>John</th>\n",
       "      <th>O'Leary</th>\n",
       "      <th>Harrington</th>\n",
       "      <th>Guest</th>\n",
       "      <th>Details / Notes</th>\n",
       "    </tr>\n",
       "  </thead>\n",
       "  <tbody>\n",
       "    <tr>\n",
       "      <th>0</th>\n",
       "      <td>1.0</td>\n",
       "      <td>1.0</td>\n",
       "      <td>Ava the Elephant</td>\n",
       "      <td>Yes</td>\n",
       "      <td>Healthcare</td>\n",
       "      <td>Female</td>\n",
       "      <td>$50,000</td>\n",
       "      <td>55%</td>\n",
       "      <td>1.0</td>\n",
       "      <td>0.0</td>\n",
       "      <td>0.0</td>\n",
       "      <td>0.0</td>\n",
       "      <td>0.0</td>\n",
       "      <td>0.0</td>\n",
       "      <td>0.0</td>\n",
       "      <td>0.0</td>\n",
       "      <td>NaN</td>\n",
       "    </tr>\n",
       "    <tr>\n",
       "      <th>1</th>\n",
       "      <td>1.0</td>\n",
       "      <td>1.0</td>\n",
       "      <td>Mr. Tod's Pie Factory</td>\n",
       "      <td>Yes</td>\n",
       "      <td>Food and Beverage</td>\n",
       "      <td>Male</td>\n",
       "      <td>$460,000</td>\n",
       "      <td>50%</td>\n",
       "      <td>1.0</td>\n",
       "      <td>0.0</td>\n",
       "      <td>0.0</td>\n",
       "      <td>0.0</td>\n",
       "      <td>1.0</td>\n",
       "      <td>0.0</td>\n",
       "      <td>0.0</td>\n",
       "      <td>0.0</td>\n",
       "      <td>NaN</td>\n",
       "    </tr>\n",
       "    <tr>\n",
       "      <th>2</th>\n",
       "      <td>1.0</td>\n",
       "      <td>1.0</td>\n",
       "      <td>Wispots</td>\n",
       "      <td>No</td>\n",
       "      <td>Business Services</td>\n",
       "      <td>Male</td>\n",
       "      <td>NaN</td>\n",
       "      <td>NaN</td>\n",
       "      <td>0.0</td>\n",
       "      <td>0.0</td>\n",
       "      <td>0.0</td>\n",
       "      <td>0.0</td>\n",
       "      <td>0.0</td>\n",
       "      <td>0.0</td>\n",
       "      <td>0.0</td>\n",
       "      <td>0.0</td>\n",
       "      <td>NaN</td>\n",
       "    </tr>\n",
       "    <tr>\n",
       "      <th>3</th>\n",
       "      <td>1.0</td>\n",
       "      <td>1.0</td>\n",
       "      <td>College Foxes Packing Boxes</td>\n",
       "      <td>No</td>\n",
       "      <td>Lifestyle / Home</td>\n",
       "      <td>Male</td>\n",
       "      <td>NaN</td>\n",
       "      <td>NaN</td>\n",
       "      <td>0.0</td>\n",
       "      <td>0.0</td>\n",
       "      <td>0.0</td>\n",
       "      <td>0.0</td>\n",
       "      <td>0.0</td>\n",
       "      <td>0.0</td>\n",
       "      <td>0.0</td>\n",
       "      <td>0.0</td>\n",
       "      <td>NaN</td>\n",
       "    </tr>\n",
       "    <tr>\n",
       "      <th>4</th>\n",
       "      <td>1.0</td>\n",
       "      <td>1.0</td>\n",
       "      <td>Ionic Ear</td>\n",
       "      <td>No</td>\n",
       "      <td>Uncertain / Other</td>\n",
       "      <td>Male</td>\n",
       "      <td>NaN</td>\n",
       "      <td>NaN</td>\n",
       "      <td>0.0</td>\n",
       "      <td>0.0</td>\n",
       "      <td>0.0</td>\n",
       "      <td>0.0</td>\n",
       "      <td>0.0</td>\n",
       "      <td>0.0</td>\n",
       "      <td>0.0</td>\n",
       "      <td>0.0</td>\n",
       "      <td>NaN</td>\n",
       "    </tr>\n",
       "  </tbody>\n",
       "</table>\n",
       "</div>"
      ],
      "text/plain": [
       "   Season  No. in series                      Company Deal           Industry  \\\n",
       "0     1.0            1.0             Ava the Elephant  Yes         Healthcare   \n",
       "1     1.0            1.0        Mr. Tod's Pie Factory  Yes  Food and Beverage   \n",
       "2     1.0            1.0                      Wispots   No  Business Services   \n",
       "3     1.0            1.0  College Foxes Packing Boxes   No   Lifestyle / Home   \n",
       "4     1.0            1.0                    Ionic Ear   No  Uncertain / Other   \n",
       "\n",
       "  Entrepreneur Gender    Amount Equity  Corcoran  Cuban  Greiner  Herjavec  \\\n",
       "0              Female   $50,000    55%       1.0    0.0      0.0       0.0   \n",
       "1                Male  $460,000    50%       1.0    0.0      0.0       0.0   \n",
       "2                Male       NaN    NaN       0.0    0.0      0.0       0.0   \n",
       "3                Male       NaN    NaN       0.0    0.0      0.0       0.0   \n",
       "4                Male       NaN    NaN       0.0    0.0      0.0       0.0   \n",
       "\n",
       "   John  O'Leary  Harrington  Guest Details / Notes  \n",
       "0   0.0      0.0         0.0    0.0             NaN  \n",
       "1   1.0      0.0         0.0    0.0             NaN  \n",
       "2   0.0      0.0         0.0    0.0             NaN  \n",
       "3   0.0      0.0         0.0    0.0             NaN  \n",
       "4   0.0      0.0         0.0    0.0             NaN  "
      ]
     },
     "execution_count": 8,
     "metadata": {},
     "output_type": "execute_result"
    }
   ],
   "source": [
    "# YOUR CODE HERE\n",
    "\n",
    "# Change non-investing Sharks to 0\n",
    "df.loc[ : , 'Corcoran' ] = df.loc[ : , 'Corcoran' ].fillna(0)\n",
    "df.loc[ : , 'Cuban' ] = df.loc[ : , 'Cuban' ].fillna(0)\n",
    "df.loc[ : , 'Greiner' ] = df.loc[ : , 'Greiner' ].fillna(0)\n",
    "df.loc[ : , 'Herjavec' ] = df.loc[ : , 'Herjavec' ].fillna(0)\n",
    "df.loc[ : , 'John' ] = df.loc[ : , 'John' ].fillna(0)\n",
    "df.loc[ : , \"O'Leary\" ] = df.loc[ : , \"O'Leary\" ].fillna(0)\n",
    "df.loc[ : , 'Harrington' ] = df.loc[ : , 'Harrington' ].fillna(0)\n",
    "df.loc[ : , 'Guest' ] = df.loc[ : , 'Guest' ].fillna(0)\n",
    "df.head()"
   ]
  },
  {
   "cell_type": "markdown",
   "metadata": {
    "id": "jzFqjoaYovv_"
   },
   "source": [
    "Notice that Amount and Equity are currently being treated as categorical variables (`dtype: object`). Can you figure out why this is? Clean up these columns and cast them to numeric types (i.e., a `dtype` of `int` or `float`) because we'll need to perform mathematical operations on these columns."
   ]
  },
  {
   "cell_type": "code",
   "execution_count": 10,
   "metadata": {
    "colab": {
     "base_uri": "https://localhost:8080/",
     "height": 382
    },
    "id": "HQjnkHrZovwA",
    "outputId": "078ecd8f-8a08-4c7b-8c57-e18048249ce6"
   },
   "outputs": [
    {
     "data": {
      "text/html": [
       "<div>\n",
       "<style scoped>\n",
       "    .dataframe tbody tr th:only-of-type {\n",
       "        vertical-align: middle;\n",
       "    }\n",
       "\n",
       "    .dataframe tbody tr th {\n",
       "        vertical-align: top;\n",
       "    }\n",
       "\n",
       "    .dataframe thead th {\n",
       "        text-align: right;\n",
       "    }\n",
       "</style>\n",
       "<table border=\"1\" class=\"dataframe\">\n",
       "  <thead>\n",
       "    <tr style=\"text-align: right;\">\n",
       "      <th></th>\n",
       "      <th>Season</th>\n",
       "      <th>No. in series</th>\n",
       "      <th>Company</th>\n",
       "      <th>Deal</th>\n",
       "      <th>Industry</th>\n",
       "      <th>Entrepreneur Gender</th>\n",
       "      <th>Amount</th>\n",
       "      <th>Equity</th>\n",
       "      <th>Corcoran</th>\n",
       "      <th>Cuban</th>\n",
       "      <th>Greiner</th>\n",
       "      <th>Herjavec</th>\n",
       "      <th>John</th>\n",
       "      <th>O'Leary</th>\n",
       "      <th>Harrington</th>\n",
       "      <th>Guest</th>\n",
       "      <th>Details / Notes</th>\n",
       "    </tr>\n",
       "  </thead>\n",
       "  <tbody>\n",
       "    <tr>\n",
       "      <th>0</th>\n",
       "      <td>1.0</td>\n",
       "      <td>1.0</td>\n",
       "      <td>Ava the Elephant</td>\n",
       "      <td>Yes</td>\n",
       "      <td>Healthcare</td>\n",
       "      <td>Female</td>\n",
       "      <td>50000.0</td>\n",
       "      <td>55.0</td>\n",
       "      <td>1.0</td>\n",
       "      <td>0.0</td>\n",
       "      <td>0.0</td>\n",
       "      <td>0.0</td>\n",
       "      <td>0.0</td>\n",
       "      <td>0.0</td>\n",
       "      <td>0.0</td>\n",
       "      <td>0.0</td>\n",
       "      <td>NaN</td>\n",
       "    </tr>\n",
       "    <tr>\n",
       "      <th>1</th>\n",
       "      <td>1.0</td>\n",
       "      <td>1.0</td>\n",
       "      <td>Mr. Tod's Pie Factory</td>\n",
       "      <td>Yes</td>\n",
       "      <td>Food and Beverage</td>\n",
       "      <td>Male</td>\n",
       "      <td>460000.0</td>\n",
       "      <td>50.0</td>\n",
       "      <td>1.0</td>\n",
       "      <td>0.0</td>\n",
       "      <td>0.0</td>\n",
       "      <td>0.0</td>\n",
       "      <td>1.0</td>\n",
       "      <td>0.0</td>\n",
       "      <td>0.0</td>\n",
       "      <td>0.0</td>\n",
       "      <td>NaN</td>\n",
       "    </tr>\n",
       "    <tr>\n",
       "      <th>2</th>\n",
       "      <td>1.0</td>\n",
       "      <td>1.0</td>\n",
       "      <td>Wispots</td>\n",
       "      <td>No</td>\n",
       "      <td>Business Services</td>\n",
       "      <td>Male</td>\n",
       "      <td>0.0</td>\n",
       "      <td>0.0</td>\n",
       "      <td>0.0</td>\n",
       "      <td>0.0</td>\n",
       "      <td>0.0</td>\n",
       "      <td>0.0</td>\n",
       "      <td>0.0</td>\n",
       "      <td>0.0</td>\n",
       "      <td>0.0</td>\n",
       "      <td>0.0</td>\n",
       "      <td>NaN</td>\n",
       "    </tr>\n",
       "    <tr>\n",
       "      <th>3</th>\n",
       "      <td>1.0</td>\n",
       "      <td>1.0</td>\n",
       "      <td>College Foxes Packing Boxes</td>\n",
       "      <td>No</td>\n",
       "      <td>Lifestyle / Home</td>\n",
       "      <td>Male</td>\n",
       "      <td>0.0</td>\n",
       "      <td>0.0</td>\n",
       "      <td>0.0</td>\n",
       "      <td>0.0</td>\n",
       "      <td>0.0</td>\n",
       "      <td>0.0</td>\n",
       "      <td>0.0</td>\n",
       "      <td>0.0</td>\n",
       "      <td>0.0</td>\n",
       "      <td>0.0</td>\n",
       "      <td>NaN</td>\n",
       "    </tr>\n",
       "    <tr>\n",
       "      <th>4</th>\n",
       "      <td>1.0</td>\n",
       "      <td>1.0</td>\n",
       "      <td>Ionic Ear</td>\n",
       "      <td>No</td>\n",
       "      <td>Uncertain / Other</td>\n",
       "      <td>Male</td>\n",
       "      <td>0.0</td>\n",
       "      <td>0.0</td>\n",
       "      <td>0.0</td>\n",
       "      <td>0.0</td>\n",
       "      <td>0.0</td>\n",
       "      <td>0.0</td>\n",
       "      <td>0.0</td>\n",
       "      <td>0.0</td>\n",
       "      <td>0.0</td>\n",
       "      <td>0.0</td>\n",
       "      <td>NaN</td>\n",
       "    </tr>\n",
       "  </tbody>\n",
       "</table>\n",
       "</div>"
      ],
      "text/plain": [
       "   Season  No. in series                      Company Deal           Industry  \\\n",
       "0     1.0            1.0             Ava the Elephant  Yes         Healthcare   \n",
       "1     1.0            1.0        Mr. Tod's Pie Factory  Yes  Food and Beverage   \n",
       "2     1.0            1.0                      Wispots   No  Business Services   \n",
       "3     1.0            1.0  College Foxes Packing Boxes   No   Lifestyle / Home   \n",
       "4     1.0            1.0                    Ionic Ear   No  Uncertain / Other   \n",
       "\n",
       "  Entrepreneur Gender    Amount  Equity  Corcoran  Cuban  Greiner  Herjavec  \\\n",
       "0              Female   50000.0    55.0       1.0    0.0      0.0       0.0   \n",
       "1                Male  460000.0    50.0       1.0    0.0      0.0       0.0   \n",
       "2                Male       0.0     0.0       0.0    0.0      0.0       0.0   \n",
       "3                Male       0.0     0.0       0.0    0.0      0.0       0.0   \n",
       "4                Male       0.0     0.0       0.0    0.0      0.0       0.0   \n",
       "\n",
       "   John  O'Leary  Harrington  Guest Details / Notes  \n",
       "0   0.0      0.0         0.0    0.0             NaN  \n",
       "1   1.0      0.0         0.0    0.0             NaN  \n",
       "2   0.0      0.0         0.0    0.0             NaN  \n",
       "3   0.0      0.0         0.0    0.0             NaN  \n",
       "4   0.0      0.0         0.0    0.0             NaN  "
      ]
     },
     "execution_count": 10,
     "metadata": {},
     "output_type": "execute_result"
    }
   ],
   "source": [
    "# YOUR CODE HERE\n",
    "\n",
    "# Convert to strings to replace \"$\", ','\n",
    "df [ 'Amount' ] = df [ 'Amount' ].fillna(0).astype(str)\n",
    "df [ 'Amount' ] = df [ 'Amount' ].str.replace( '$' , '' )\n",
    "df [ 'Amount' ] = df [ 'Amount' ].str.replace( ',' , '' )\n",
    "# Convert again to float so we can operate\n",
    "df.Amount = df.Amount.astype(float)\n",
    "\n",
    "# Convert to strings to replace \"%\"\n",
    "df [ 'Equity' ] = df [ 'Equity' ].fillna(0).astype(str)\n",
    "df [ 'Equity' ] = df [ 'Equity' ].str.replace( '%' , '' )\n",
    "# Convert again to float so we can operate\n",
    "df.Equity = df.Equity.astype(float)\n",
    "\n",
    "df.head()"
   ]
  },
  {
   "cell_type": "markdown",
   "metadata": {
    "id": "MY8G1ZuRovwE"
   },
   "source": [
    "## Question 1. Which Company was Worth the Most?"
   ]
  },
  {
   "cell_type": "markdown",
   "metadata": {
    "id": "VuyDKd9LovwE"
   },
   "source": [
    "The valuation of a company is how much it is worth. If someone invests \\\\$10,000 for a 40\\% equity stake in the company, then this means the company must be valued at \\$25,000, since 40% of \\\\$25,000 is \\\\$10,000.\n",
    "\n",
    "Calculate the valuation of each company that was funded. Which company was most valuable? Is it the same as the company that received the largest total investment from the sharks?"
   ]
  },
  {
   "cell_type": "code",
   "execution_count": 13,
   "metadata": {
    "colab": {
     "base_uri": "https://localhost:8080/",
     "height": 216
    },
    "id": "9_mHDH2novwF",
    "outputId": "8eac68cc-c6b2-4cb9-89ff-79ebca5c65c3"
   },
   "outputs": [
    {
     "data": {
      "text/plain": [
       "index                                                                421\n",
       "Season                                                               6.0\n",
       "No. in series                                                       11.0\n",
       "Company                                                             Zipz\n",
       "Deal                                                                 Yes\n",
       "Industry                                               Food and Beverage\n",
       "Entrepreneur Gender                                                 Male\n",
       "Amount                                                         2500000.0\n",
       "Equity                                                              10.0\n",
       "Corcoran                                                             0.0\n",
       "Cuban                                                                0.0\n",
       "Greiner                                                              0.0\n",
       "Herjavec                                                             0.0\n",
       "John                                                                 0.0\n",
       "O'Leary                                                              1.0\n",
       "Harrington                                                           0.0\n",
       "Guest                                                                0.0\n",
       "Details / Notes        with an option for another $2.5 Million for an...\n",
       "Valuation                                                     25000000.0\n",
       "Name: 201, dtype: object"
      ]
     },
     "execution_count": 13,
     "metadata": {},
     "output_type": "execute_result"
    }
   ],
   "source": [
    "# YOUR CODE HERE\n",
    "\n",
    "# Keep companies that have equity\n",
    "df = df [ df [ 'Equity' ] > 0 ]\n",
    "\n",
    "# Perform operation to find out their value\n",
    "df [ 'Valuation' ] = df [ 'Amount' ] / df [ 'Equity' ] * 100\n",
    "\n",
    "# Reset for 'idxmax' to work right, reset and then after kept getting errors when kept\n",
    "df = df.reset_index()\n",
    "\n",
    "# Find company that is valued the most\n",
    "df.iloc[ df [ 'Valuation' ].idxmax() ]"
   ]
  },
  {
   "cell_type": "code",
   "execution_count": 14,
   "metadata": {},
   "outputs": [
    {
     "data": {
      "text/plain": [
       "index                                                                483\n",
       "Season                                                               6.0\n",
       "No. in series                                                       27.0\n",
       "Company                                                           AirCar\n",
       "Deal                                                                 Yes\n",
       "Industry                                                 Green/CleanTech\n",
       "Entrepreneur Gender                                                 Male\n",
       "Amount                                                         5000000.0\n",
       "Equity                                                              50.0\n",
       "Corcoran                                                             0.0\n",
       "Cuban                                                                0.0\n",
       "Greiner                                                              0.0\n",
       "Herjavec                                                             1.0\n",
       "John                                                                 0.0\n",
       "O'Leary                                                              0.0\n",
       "Harrington                                                           0.0\n",
       "Guest                                                                0.0\n",
       "Details / Notes        Contingent on getting deal to bring to contine...\n",
       "Valuation                                                     10000000.0\n",
       "Name: 236, dtype: object"
      ]
     },
     "execution_count": 14,
     "metadata": {},
     "output_type": "execute_result"
    }
   ],
   "source": [
    "df.iloc[ df [ 'Amount' ].idxmax() ]"
   ]
  },
  {
   "cell_type": "markdown",
   "metadata": {
    "id": "RQw_4omBovwK"
   },
   "source": [
    "**YOUR EXPLANATION HERE**\n",
    "\n",
    "The company that was most valuable was **Zipz**, they were valued at 25 million dollars.\n",
    "\n",
    "No, the company given the most amount was **not the name**. The company given the most amount was AirCar, which recieved 5 million dollars. "
   ]
  },
  {
   "cell_type": "markdown",
   "metadata": {
    "id": "deHlRRDoovwK"
   },
   "source": [
    "## Question 2. Which Shark Invested the Most?"
   ]
  },
  {
   "cell_type": "markdown",
   "metadata": {
    "id": "snpYXOcOovwM"
   },
   "source": [
    "Calculate the total amount of money that each shark invested over the 6 seasons. Which shark invested the most total money over the 6 seasons?\n",
    "\n",
    "_Hint:_ If $n$ sharks funded a given venture, then the amount that each shark invested is the total amount divided by $n$."
   ]
  },
  {
   "cell_type": "code",
   "execution_count": 18,
   "metadata": {
    "colab": {
     "base_uri": "https://localhost:8080/",
     "height": 335
    },
    "id": "1UZfCn-2ovwO",
    "outputId": "57d46ae2-daec-49f4-a224-1f526460b108"
   },
   "outputs": [
    {
     "data": {
      "text/plain": [
       "Corcoran       4912500.0\n",
       "Cuban         17742500.0\n",
       "Greiner        8132500.0\n",
       "Herjavec      16110000.0\n",
       "John           8116500.0\n",
       "O'Leary        7365000.0\n",
       "Harrington      800000.0\n",
       "Guest           400000.0\n",
       "dtype: float64"
      ]
     },
     "execution_count": 18,
     "metadata": {},
     "output_type": "execute_result"
    }
   ],
   "source": [
    "# ENTER CODE HERE.\n",
    "\n",
    "num_sharks = df.loc[ : , 'Corcoran' : 'Guest' ].sum(axis=1)\n",
    "\n",
    "df.loc[ : , 'Corcoran':'Guest' ] = df.loc[ : , 'Corcoran':'Guest' ].divide( num_sharks , axis=0)\n",
    "\n",
    "df.loc[ : , 'Corcoran':'Guest' ] = df.loc[ : , 'Corcoran':'Guest' ].multiply( df [ 'Amount' ], axis=0)\n",
    "\n",
    "df.loc[ : , 'Corcoran':'Guest' ].sum()"
   ]
  },
  {
   "cell_type": "markdown",
   "metadata": {
    "id": "nAgPUDFKovwR"
   },
   "source": [
    "**YOUR EXPLANATION HERE**\n",
    "\n",
    "The shark that invested the most was **Mark Cuban**, he invested $17,742,500."
   ]
  },
  {
   "cell_type": "markdown",
   "metadata": {
    "id": "3vN86vhHovwS"
   },
   "source": [
    "## Question 3. Do the Sharks Prefer Certain Industries?\n",
    "\n",
    "Calculate the funding rate (the proportion of companies that were funded) for each industry. Make a visualization showing this information."
   ]
  },
  {
   "cell_type": "code",
   "execution_count": 21,
   "metadata": {
    "colab": {
     "base_uri": "https://localhost:8080/",
     "height": 523
    },
    "id": "1IL5SjutGJx4",
    "outputId": "9f6abdeb-5005-4eb5-9a71-5d21193c82ee"
   },
   "outputs": [
    {
     "data": {
      "text/plain": [
       "Industry\n",
       "Business Services         3\n",
       "Children / Education     29\n",
       "Consumer Products        10\n",
       "Fashion / Beauty         43\n",
       "Fitness / Sports         23\n",
       "Food and Beverage        54\n",
       "Green/CleanTech           5\n",
       "Healthcare               10\n",
       "Lifestyle / Home         36\n",
       "Media / Entertainment     6\n",
       "Pet Products              7\n",
       "Software / Tech          13\n",
       "Uncertain / Other         5\n",
       "Name: Equity, dtype: int64"
      ]
     },
     "execution_count": 21,
     "metadata": {},
     "output_type": "execute_result"
    }
   ],
   "source": [
    "df.groupby('Industry')['Equity'].count()"
   ]
  },
  {
   "cell_type": "code",
   "execution_count": 22,
   "metadata": {
    "colab": {
     "base_uri": "https://localhost:8080/",
     "height": 609
    },
    "id": "HoeI9g5NovwT",
    "outputId": "11b05d61-c326-4c44-999c-dc3784d4e814"
   },
   "outputs": [
    {
     "data": {
      "text/plain": [
       "<Axes: title={'center': 'Funding Rate by Industry'}, xlabel='Industry'>"
      ]
     },
     "execution_count": 22,
     "metadata": {},
     "output_type": "execute_result"
    },
    {
     "data": {
      "image/png": "[encoded data removed]",
      "text/plain": [
       "<Figure size 640x480 with 1 Axes>"
      ]
     },
     "metadata": {},
     "output_type": "display_data"
    }
   ],
   "source": [
    "#creates a table for 'Industry' counts occurances as y value and industry for x\n",
    "table = pd.pivot_table(data = df, values = 'Equity', index = ['Industry'], aggfunc = 'count')\n",
    "\n",
    "#displays table a bar graph\n",
    "table.plot(kind = 'bar', title = \"Funding Rate by Industry\")"
   ]
  },
  {
   "cell_type": "markdown",
   "metadata": {
    "id": "Kl12YJvOovwa"
   },
   "source": [
    "The chart displays the types of industry along with the number of funded companies for each category. The bar chart displays this information with the y axis showing the number of funded companies. Food and beverage, Fashion / Beauty, and Lifestyle / Home have the highest number of investments showing the potential of favoritism towards these industries."
   ]
  },
  {
   "cell_type": "markdown",
   "metadata": {
    "id": "KaVqM_7xovwc"
   },
   "source": [
    "## Submission Instructions\n",
    "\n",
    "Once you are finished, follow these steps:\n",
    "\n",
    "1. Restart the kernel and re-run this notebook from beginning to end by going to `Kernel > Restart Kernel and Run All Cells`.\n",
    "\n",
    "2. If this process stops halfway through, that means there was an error. Correct the error and repeat Step 1 until the notebook runs from beginning to end.\n",
    "\n",
    "3. Double check that there is a number next to each code cell and that these numbers are in order.\n",
    "\n",
    "Then, submit your lab as follows:\n",
    "\n",
    "1. Go to `File > Export Notebook As > PDF`.\n",
    "\n",
    "2. Double check that the entire notebook, from beginning to end, is in this PDF file. (If the notebook is cut off, try first exporting the notebook to HTML and printing to PDF.)\n",
    "\n",
    "3. Upload the Notebook (ipynb) to canvas (one submission per group).\n",
    "\n",
    "4. Demo your lab by next Tuesday for full credit."
   ]
  }
 ],
 "metadata": {
  "colab": {
   "provenance": []
  },
  "kernelspec": {
   "display_name": "Python 3 (ipykernel)",
   "language": "python",
   "name": "python3"
  },
  "language_info": {
   "codemirror_mode": {
    "name": "ipython",
    "version": 3
   },
   "file_extension": ".py",
   "mimetype": "text/x-python",
   "name": "python",
   "nbconvert_exporter": "python",
   "pygments_lexer": "ipython3",
   "version": "3.12.4"
  }
 },
 "nbformat": 4,
 "nbformat_minor": 4
}

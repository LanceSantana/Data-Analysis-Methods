{
 "cells": [
  {
   "cell_type": "markdown",
   "metadata": {
    "id": "__1JBcfGnOHj"
   },
   "source": [
    "# The Distribution of First Digits\n",
    "\n",
    "In this lab, you will explore the distribution of first digits in real data. For example, the first digits of the numbers 52, 30.8, and 0.07 are 5, 3, and 7 respectively. In this lab, you will investigate the question: how frequently does each digit 1-9 appear as the first digit of the number?\n"
   ]
  },
  {
   "cell_type": "markdown",
   "metadata": {
    "id": "iJ0is3PhnOHl"
   },
   "source": [
    "## Question 0\n",
    "\n",
    "Make a prediction.\n",
    "\n",
    "1. Approximately what percentage of the values do you think will have a _first_ digit of 1? What percentage of the values do you think will have a first digit of 9?\n",
    "2. Approximately what percentage of the values do you think will have a _last_ digit of 1? What percentage of the values do you think will have a last digit of 9?\n",
    "\n",
    "(Don't worry about being wrong. You will earn full credit for any justified answer.)"
   ]
  },
  {
   "cell_type": "markdown",
   "metadata": {
    "id": "D4Kxu2djnOHm"
   },
   "source": [
    "When looking at the volume of sp500 I believe the first digit will be 1 between 20 - 30% of the time, and 9 will be less than 10%. This is because as the number round to 100, 1000, 10000, etc. they will become \"harder\" to round up again requiring more units to increase from 100 to 1000. This will result in a distribution that favors lower numbers 1-4, compared to higher numbers 6-10. I assume the last digit will be nearly completely random with a uniform distribution across the digits 1 - 9. I predict there will be some level of variability but it should be mostly constant each making up around 11.11% of the total with + or - 2% variability."
   ]
  },
  {
   "cell_type": "markdown",
   "metadata": {
    "id": "Dyc5U7u7nOHn"
   },
   "source": [
    "## Question 1\n",
    "\n",
    "The [S&P 500](https://en.wikipedia.org/wiki/S%26P_500_Index) is a stock index based on the market capitalizations of large companies that are publicly traded on the NYSE or NASDAQ. The CSV file `sp500.csv` contains data from February 1, 2018 about the stocks that comprise the S&P 500. We will investigate the first digit distributions of the variables in this data set.\n",
    "\n",
    "Read in the S&P 500 data. What is the unit of observation in this data set? Is there a variable that is natural to use as the index? If so, set that variable to be the index. Once you are done, display the `DataFrame`."
   ]
  },
  {
   "cell_type": "code",
   "execution_count": 25,
   "metadata": {
    "colab": {
     "base_uri": "https://localhost:8080/",
     "height": 206
    },
    "executionInfo": {
     "elapsed": 280,
     "status": "ok",
     "timestamp": 1727804418327,
     "user": {
      "displayName": "Mehrnaz Ayazi",
      "userId": "04565078537616922726"
     },
     "user_tz": 420
    },
    "id": "vX2M_vUAnOHr",
    "outputId": "76c26770-8e4b-45d9-9838-40c080d99336"
   },
   "outputs": [
    {
     "data": {
      "text/html": [
       "<div>\n",
       "<style scoped>\n",
       "    .dataframe tbody tr th:only-of-type {\n",
       "        vertical-align: middle;\n",
       "    }\n",
       "\n",
       "    .dataframe tbody tr th {\n",
       "        vertical-align: top;\n",
       "    }\n",
       "\n",
       "    .dataframe thead th {\n",
       "        text-align: right;\n",
       "    }\n",
       "</style>\n",
       "<table border=\"1\" class=\"dataframe\">\n",
       "  <thead>\n",
       "    <tr style=\"text-align: right;\">\n",
       "      <th></th>\n",
       "      <th>date</th>\n",
       "      <th>Name</th>\n",
       "      <th>open</th>\n",
       "      <th>close</th>\n",
       "      <th>volume</th>\n",
       "    </tr>\n",
       "  </thead>\n",
       "  <tbody>\n",
       "    <tr>\n",
       "      <th>0</th>\n",
       "      <td>2018-02-01</td>\n",
       "      <td>AAL</td>\n",
       "      <td>$54.00</td>\n",
       "      <td>$53.88</td>\n",
       "      <td>3623078</td>\n",
       "    </tr>\n",
       "    <tr>\n",
       "      <th>1</th>\n",
       "      <td>2018-02-01</td>\n",
       "      <td>AAPL</td>\n",
       "      <td>$167.16</td>\n",
       "      <td>$167.78</td>\n",
       "      <td>47230787</td>\n",
       "    </tr>\n",
       "    <tr>\n",
       "      <th>2</th>\n",
       "      <td>2018-02-01</td>\n",
       "      <td>AAP</td>\n",
       "      <td>$116.24</td>\n",
       "      <td>$117.29</td>\n",
       "      <td>760629</td>\n",
       "    </tr>\n",
       "    <tr>\n",
       "      <th>3</th>\n",
       "      <td>2018-02-01</td>\n",
       "      <td>ABBV</td>\n",
       "      <td>$112.24</td>\n",
       "      <td>$116.34</td>\n",
       "      <td>9943452</td>\n",
       "    </tr>\n",
       "    <tr>\n",
       "      <th>4</th>\n",
       "      <td>2018-02-01</td>\n",
       "      <td>ABC</td>\n",
       "      <td>$97.74</td>\n",
       "      <td>$99.29</td>\n",
       "      <td>2786798</td>\n",
       "    </tr>\n",
       "    <tr>\n",
       "      <th>...</th>\n",
       "      <td>...</td>\n",
       "      <td>...</td>\n",
       "      <td>...</td>\n",
       "      <td>...</td>\n",
       "      <td>...</td>\n",
       "    </tr>\n",
       "    <tr>\n",
       "      <th>500</th>\n",
       "      <td>2018-02-01</td>\n",
       "      <td>XYL</td>\n",
       "      <td>$72.50</td>\n",
       "      <td>$74.84</td>\n",
       "      <td>1817612</td>\n",
       "    </tr>\n",
       "    <tr>\n",
       "      <th>501</th>\n",
       "      <td>2018-02-01</td>\n",
       "      <td>YUM</td>\n",
       "      <td>$84.24</td>\n",
       "      <td>$83.98</td>\n",
       "      <td>1685275</td>\n",
       "    </tr>\n",
       "    <tr>\n",
       "      <th>502</th>\n",
       "      <td>2018-02-01</td>\n",
       "      <td>ZBH</td>\n",
       "      <td>$126.35</td>\n",
       "      <td>$128.19</td>\n",
       "      <td>1756300</td>\n",
       "    </tr>\n",
       "    <tr>\n",
       "      <th>503</th>\n",
       "      <td>2018-02-01</td>\n",
       "      <td>ZION</td>\n",
       "      <td>$53.79</td>\n",
       "      <td>$54.98</td>\n",
       "      <td>3542047</td>\n",
       "    </tr>\n",
       "    <tr>\n",
       "      <th>504</th>\n",
       "      <td>2018-02-01</td>\n",
       "      <td>ZTS</td>\n",
       "      <td>$76.84</td>\n",
       "      <td>$77.82</td>\n",
       "      <td>2982259</td>\n",
       "    </tr>\n",
       "  </tbody>\n",
       "</table>\n",
       "<p>505 rows × 5 columns</p>\n",
       "</div>"
      ],
      "text/plain": [
       "           date  Name     open    close    volume\n",
       "0    2018-02-01   AAL   $54.00   $53.88   3623078\n",
       "1    2018-02-01  AAPL  $167.16  $167.78  47230787\n",
       "2    2018-02-01   AAP  $116.24  $117.29    760629\n",
       "3    2018-02-01  ABBV  $112.24  $116.34   9943452\n",
       "4    2018-02-01   ABC   $97.74   $99.29   2786798\n",
       "..          ...   ...      ...      ...       ...\n",
       "500  2018-02-01   XYL   $72.50   $74.84   1817612\n",
       "501  2018-02-01   YUM   $84.24   $83.98   1685275\n",
       "502  2018-02-01   ZBH  $126.35  $128.19   1756300\n",
       "503  2018-02-01  ZION   $53.79   $54.98   3542047\n",
       "504  2018-02-01   ZTS   $76.84   $77.82   2982259\n",
       "\n",
       "[505 rows x 5 columns]"
      ]
     },
     "execution_count": 25,
     "metadata": {},
     "output_type": "execute_result"
    }
   ],
   "source": [
    "# ENTER YOUR CODE HERE.\n",
    "import pandas as pd\n",
    "df = pd.read_csv(\"sp500.csv\")\n",
    "df.head()\n",
    "\n",
    "df.set_index(\"Name\")\n",
    "df"
   ]
  },
  {
   "cell_type": "markdown",
   "metadata": {
    "id": "7QlsiUNInOHz"
   },
   "source": [
    "The unit of observation is the company being observed in the study, as each entry has a unique company and its financial information. The name seems to be the optimal index as it is unique to each company and will not have repeated data when compared to other entries."
   ]
  },
  {
   "cell_type": "markdown",
   "metadata": {
    "id": "GKW3GDWYnOHz"
   },
   "source": [
    "## Question 2\n",
    "\n",
    "We will start by looking at the `volume` column. This variable tells us how many shares were traded on that date.\n",
    "\n",
    "Extract the first digit of every value in this column. (_Hint:_ First, turn the numbers into strings. Then, use the [text processing functionalities](https://pandas.pydata.org/pandas-docs/stable/text.html) of `pandas` to extract the first character of each string.) Make an appropriate visualization to display the distribution of the first digits. (_Hint:_ Think carefully about whether the variable you are plotting is quantitative or categorical.)\n",
    "\n",
    "How does this compare with what you predicted in Question 0?"
   ]
  },
  {
   "cell_type": "code",
   "execution_count": 8,
   "metadata": {
    "id": "MyTVgillnOH0"
   },
   "outputs": [
    {
     "data": {
      "image/png": "[encoded data removed]",
      "text/plain": [
       "<Figure size 640x480 with 1 Axes>"
      ]
     },
     "metadata": {},
     "output_type": "display_data"
    }
   ],
   "source": [
    "# ENTER YOUR CODE HERE.\n",
    "import matplotlib.pyplot as plt\n",
    "%matplotlib inline\n",
    "\n",
    "df['volume'] = df['volume'].astype(str)\n",
    "volume_dig = df['volume'].str[0]\n",
    "volume_dig_count = volume_dig.value_counts()\n",
    "\n",
    "volume_dig_count.plot.bar()\n",
    "plt.xlabel('Digit')\n",
    "plt.ylabel('Occurrences')\n",
    "plt.title('Frequency of first digits in sales volume')\n",
    "plt.show()"
   ]
  },
  {
   "cell_type": "markdown",
   "metadata": {
    "id": "Gg3msmSZnOIE"
   },
   "source": [
    "The result from the graph was similar to my assumption, however the occurrences definitely exceeded my expectations. I also assumed that there would not be as steep of a decrease following one with numbers past 3 starting to level out. I assumed it would decrease at a steady rate to 9 but this was not the case. Instead, the graph shows an exponential increase of occurrence as the values approach 9 from 1."
   ]
  },
  {
   "cell_type": "markdown",
   "metadata": {
    "id": "fw4kZAVmnOIF"
   },
   "source": [
    "## Question 3\n",
    "\n",
    "Now, repeat Question 2, but for the distribution of _last_ digits. Again, make an appropriate visualization and compare with your prediction in Question 0."
   ]
  },
  {
   "cell_type": "code",
   "execution_count": 11,
   "metadata": {
    "id": "oovgcTUFnOIL"
   },
   "outputs": [
    {
     "data": {
      "image/png": "[encoded data removed]",
      "text/plain": [
       "<Figure size 640x480 with 1 Axes>"
      ]
     },
     "metadata": {},
     "output_type": "display_data"
    }
   ],
   "source": [
    "# ENTER YOUR CODE HERE.\n",
    "df['volume'] = df['volume'].astype(str)\n",
    "volume_dig = df['volume'].str[-1]\n",
    "volume_dig_count = volume_dig.value_counts()\n",
    "volume_dig_count = volume_dig_count.sort_index()\n",
    "volume_dig_count.plot.bar()\n",
    "plt.xlabel('Digit')\n",
    "plt.ylabel('Occurrences')\n",
    "plt.title('Frequency of last digits in sales volume')\n",
    "plt.show()"
   ]
  },
  {
   "cell_type": "markdown",
   "metadata": {
    "id": "Wk1hWz2_nOIY"
   },
   "source": [
    "The graph was mostly consistent with my hypothesis, the occurrences are  constant with the exception of 3, 4, 5 being relatively lower compared to other values. I am not sure if this is simply due to varability in the data or because the last digit is likely to be closer to the beginning and end digits."
   ]
  },
  {
   "cell_type": "markdown",
   "metadata": {
    "id": "JSJYFTMAnOIZ"
   },
   "source": [
    "## Question 4\n",
    "\n",
    "Maybe the `volume` column was just a fluke. Let's see if the first digit distribution holds up when we look at a very different variable: the closing price of the stock. Make a visualization of the first digit distribution of the closing price (the `close` column of the `DataFrame`). Comment on what you see.\n",
    "\n",
    "(_Hint:_ What type did `pandas` infer this variable as and why? You will have to first clean the values using the [text processing functionalities](https://pandas.pydata.org/pandas-docs/stable/text.html) of `pandas` and then convert this variable to a quantitative variable.)"
   ]
  },
  {
   "cell_type": "code",
   "execution_count": 14,
   "metadata": {
    "id": "8Xvx4HyhnOIa"
   },
   "outputs": [
    {
     "data": {
      "image/png": "[encoded data removed]",
      "text/plain": [
       "<Figure size 640x480 with 1 Axes>"
      ]
     },
     "metadata": {},
     "output_type": "display_data"
    }
   ],
   "source": [
    "# ENTER YOUR CODE HERE.\n",
    "import matplotlib.pyplot as plt\n",
    "%matplotlib inline\n",
    "df['close'] = df['close'].astype(str)\n",
    "close_dig = df['close'].str[1]\n",
    "close_dig_count = close_dig.value_counts()\n",
    "\n",
    "close_dig_count.plot.bar()\n",
    "plt.xlabel('Digit')\n",
    "plt.ylabel('Occurrences')\n",
    "plt.title('Frequency of first digits in closing price')\n",
    "plt.show()"
   ]
  },
  {
   "cell_type": "markdown",
   "metadata": {
    "id": "S5EGwnx1nOIj"
   },
   "source": [
    "Similar to question #2 there is a high amount of occurrences of digit 1 with significantly fewer occurances of digit 2 - 9. Unlike question 2 there is a larger jump from 1 to 2 and a following consistent decrease. I am curious what factors affect if the digits following 2 have steeper or flatter results."
   ]
  },
  {
   "cell_type": "code",
   "execution_count": null,
   "metadata": {
    "id": "Cy4BgFeR9kqy"
   },
   "outputs": [],
   "source": []
  },
  {
   "cell_type": "code",
   "execution_count": null,
   "metadata": {
    "id": "hrWYh4JL9kqy"
   },
   "outputs": [],
   "source": []
  },
  {
   "cell_type": "markdown",
   "metadata": {
    "id": "N6klhgAUnOIk"
   },
   "source": [
    "## Submission Instructions\n",
    "\n",
    "Once you are finished, follow these steps:\n",
    "\n",
    "1. Restart the kernel and re-run this notebook from beginning to end by going to `Kernel > Restart Kernel and Run All Cells`.\n",
    "\n",
    "2. If this process stops halfway through, that means there was an error. Correct the error and repeat Step 1 until the notebook runs from beginning to end.\n",
    "\n",
    "3. Double check that there is a number next to each code cell and that these numbers are in order.\n",
    "\n",
    "Then, submit your lab as follows:\n",
    "\n",
    "1. This quarter, you don't need to demo Lab 1. The first lab to demo will be Lab 2.\n",
    "\n",
    "2. Upload your .ipyn Notebook to Canvas and pdf to Gradescope."
   ]
  }
 ],
 "metadata": {
  "colab": {
   "provenance": []
  },
  "kernelspec": {
   "display_name": "Python [conda env:base] *",
   "language": "python",
   "name": "conda-base-py"
  },
  "language_info": {
   "codemirror_mode": {
    "name": "ipython",
    "version": 3
   },
   "file_extension": ".py",
   "mimetype": "text/x-python",
   "name": "python",
   "nbconvert_exporter": "python",
   "pygments_lexer": "ipython3",
   "version": "3.12.7"
  }
 },
 "nbformat": 4,
 "nbformat_minor": 4
}
